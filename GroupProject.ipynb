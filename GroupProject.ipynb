{
  "nbformat": 4,
  "nbformat_minor": 0,
  "metadata": {
    "colab": {
      "name": "GroupProject.ipynb",
      "provenance": [],
      "collapsed_sections": [],
      "include_colab_link": true
    },
    "kernelspec": {
      "display_name": "Python 3",
      "name": "python3"
    },
    "language_info": {
      "name": "python"
    }
  },
  "cells": [
    {
      "cell_type": "markdown",
      "metadata": {
        "id": "view-in-github",
        "colab_type": "text"
      },
      "source": [
        "<a href=\"https://colab.research.google.com/github/vws2013/nyustern/blob/main/GroupProject.ipynb\" target=\"_parent\"><img src=\"https://colab.research.google.com/assets/colab-badge.svg\" alt=\"Open In Colab\"/></a>"
      ]
    },
    {
      "cell_type": "markdown",
      "metadata": {
        "id": "WEwc5ntb_2Tv"
      },
      "source": [
        "##Group 6\n",
        "\n",
        "##Midway Check-in I\n",
        "\n",
        "\n",
        "*   Use [Figma](https://www.figma.com/) to sketch out the pages for your application\n",
        "*   Add your Figma link to the project shared sheet\n",
        "* Build your three web pages for your site.\n",
        "* Deploy the three web pages through Flask\n",
        "* Be prepared show your Figma and Flask microsite during class on 12/4/2021.\n",
        "\n",
        "https://covid19-api.com/docs\n",
        "\n",
        "https://docs.google.com/spreadsheets/d/1dcEWKWnLs2CBR7Zi3U6d1wPfPs72uitP3I6sdfez9GM/edit#gid=0\n"
      ]
    },
    {
      "cell_type": "markdown",
      "metadata": {
        "id": "w8YMqLGmu3-6"
      },
      "source": [
        "##Project Specs - UPDATED\n",
        "\n",
        "Theme: International COVID Data Tracker / Travel Planner\n",
        "\n",
        "API: https://rapidapi.com/Gramzivi/api/covid-19-data/\n",
        "\n"
      ]
    },
    {
      "cell_type": "code",
      "metadata": {
        "colab": {
          "base_uri": "https://localhost:8080/"
        },
        "id": "UtJ742-EvrIG",
        "outputId": "4183833b-dcea-43bb-da5c-c04744aca73d"
      },
      "source": [
        "# install required library\n",
        "!pip install flask-ngrok \n",
        "!npm install bootstrap@3\n"
      ],
      "execution_count": 1,
      "outputs": [
        {
          "output_type": "stream",
          "name": "stdout",
          "text": [
            "Collecting flask-ngrok\n",
            "  Downloading flask_ngrok-0.0.25-py3-none-any.whl (3.1 kB)\n",
            "Requirement already satisfied: requests in /usr/local/lib/python3.7/dist-packages (from flask-ngrok) (2.23.0)\n",
            "Requirement already satisfied: Flask>=0.8 in /usr/local/lib/python3.7/dist-packages (from flask-ngrok) (1.1.4)\n",
            "Requirement already satisfied: itsdangerous<2.0,>=0.24 in /usr/local/lib/python3.7/dist-packages (from Flask>=0.8->flask-ngrok) (1.1.0)\n",
            "Requirement already satisfied: Jinja2<3.0,>=2.10.1 in /usr/local/lib/python3.7/dist-packages (from Flask>=0.8->flask-ngrok) (2.11.3)\n",
            "Requirement already satisfied: click<8.0,>=5.1 in /usr/local/lib/python3.7/dist-packages (from Flask>=0.8->flask-ngrok) (7.1.2)\n",
            "Requirement already satisfied: Werkzeug<2.0,>=0.15 in /usr/local/lib/python3.7/dist-packages (from Flask>=0.8->flask-ngrok) (1.0.1)\n",
            "Requirement already satisfied: MarkupSafe>=0.23 in /usr/local/lib/python3.7/dist-packages (from Jinja2<3.0,>=2.10.1->Flask>=0.8->flask-ngrok) (2.0.1)\n",
            "Requirement already satisfied: certifi>=2017.4.17 in /usr/local/lib/python3.7/dist-packages (from requests->flask-ngrok) (2021.10.8)\n",
            "Requirement already satisfied: chardet<4,>=3.0.2 in /usr/local/lib/python3.7/dist-packages (from requests->flask-ngrok) (3.0.4)\n",
            "Requirement already satisfied: urllib3!=1.25.0,!=1.25.1,<1.26,>=1.21.1 in /usr/local/lib/python3.7/dist-packages (from requests->flask-ngrok) (1.24.3)\n",
            "Requirement already satisfied: idna<3,>=2.5 in /usr/local/lib/python3.7/dist-packages (from requests->flask-ngrok) (2.10)\n",
            "Installing collected packages: flask-ngrok\n",
            "Successfully installed flask-ngrok-0.0.25\n",
            "\u001b[K\u001b[?25h\u001b[37;40mnpm\u001b[0m \u001b[0m\u001b[30;43mWARN\u001b[0m \u001b[0m\u001b[35msaveError\u001b[0m ENOENT: no such file or directory, open '/content/package.json'\n",
            "\u001b[0m\u001b[37;40mnpm\u001b[0m \u001b[0m\u001b[34;40mnotice\u001b[0m\u001b[35m\u001b[0m created a lockfile as package-lock.json. You should commit this file.\n",
            "\u001b[0m\u001b[37;40mnpm\u001b[0m \u001b[0m\u001b[30;43mWARN\u001b[0m \u001b[0m\u001b[35menoent\u001b[0m ENOENT: no such file or directory, open '/content/package.json'\n",
            "\u001b[0m\u001b[37;40mnpm\u001b[0m \u001b[0m\u001b[30;43mWARN\u001b[0m\u001b[35m\u001b[0m content No description\n",
            "\u001b[0m\u001b[37;40mnpm\u001b[0m \u001b[0m\u001b[30;43mWARN\u001b[0m\u001b[35m\u001b[0m content No repository field.\n",
            "\u001b[0m\u001b[37;40mnpm\u001b[0m \u001b[0m\u001b[30;43mWARN\u001b[0m\u001b[35m\u001b[0m content No README data\n",
            "\u001b[0m\u001b[37;40mnpm\u001b[0m \u001b[0m\u001b[30;43mWARN\u001b[0m\u001b[35m\u001b[0m content No license field.\n",
            "\u001b[0m\n",
            "\u001b[K\u001b[?25h+ bootstrap@3.4.1\n",
            "added 1 package from 1 contributor and audited 1 package in 0.537s\n",
            "found \u001b[92m0\u001b[0m vulnerabilities\n",
            "\n"
          ]
        }
      ]
    },
    {
      "cell_type": "code",
      "metadata": {
        "colab": {
          "base_uri": "https://localhost:8080/",
          "height": 52
        },
        "id": "kb09p53Wwayj",
        "outputId": "53b7cc8c-27f9-43ff-c878-0f9129c94c63"
      },
      "source": [
        "from IPython.display import HTML\n",
        "from google.colab.output import eval_js\n",
        "print(\"Below is your URL\")\n",
        "print(eval_js(\"google.colab.kernel.proxyPort(5000)\")) # generate proxy port (do this everytime)"
      ],
      "execution_count": 2,
      "outputs": [
        {
          "output_type": "stream",
          "name": "stdout",
          "text": [
            "Below is your URL\n",
            "https://i2g44q5f7pd-496ff2e9c6d22116-5000-colab.googleusercontent.com/\n"
          ]
        }
      ]
    },
    {
      "cell_type": "code",
      "metadata": {
        "id": "BxpugBbMwzEp"
      },
      "source": [
        "# generate templates directory\n",
        "\n",
        "%mkdir static -p\n",
        "#Make the template.\n",
        "%mkdir templates -p"
      ],
      "execution_count": 3,
      "outputs": []
    },
    {
      "cell_type": "code",
      "metadata": {
        "colab": {
          "base_uri": "https://localhost:8080/"
        },
        "id": "u9rqMgzY2VSM",
        "outputId": "734cd418-a703-42d8-dd2a-3394f6aa96e7"
      },
      "source": [
        "%%writefile templates/landing.html\n",
        "\n",
        "<!doctype html>\n",
        "<html lang=\"en\" class=\"h-100\">\n",
        "  <head>\n",
        "    <meta charset=\"utf-8\">\n",
        "    <meta name=\"viewport\" content=\"width=device-width, initial-scale=1\">\n",
        "    <meta name=\"description\" content=\"\">\n",
        "    <meta name=\"author\" content=\"Mark Otto, Jacob Thornton, and Bootstrap contributors\">\n",
        "    <meta name=\"generator\" content=\"Hugo 0.88.1\">\n",
        "    <title>COVID Data Tracker</title>\n",
        "\n",
        "    <link rel=\"stylesheet\" href=\"{{ url_for('static', filename='landingstyle.css') }}\">\n",
        "  \n",
        "  </head>\n",
        "\n",
        "  <body class=\"d-flex h-100 text-center text-white bg-dark\">\n",
        "    \n",
        "<div class=\"cover-container d-flex w-100 h-100 p-3 mx-auto flex-column\">\n",
        "  <header class=\"mb-auto\">\n",
        "    <div>\n",
        "      <h3 class=\"float-md-start mb-0\">COVID Data Tracker</h3>\n",
        "      <nav class=\"nav nav-masthead justify-content-center float-md-end\">\n",
        "        <a class=\"nav-link active\" aria-current=\"page\" href=\"#\">Home</a>\n",
        "        <a class=\"nav-link\" href=\"/about\">About</a>\n",
        "        <a class=\"nav-link\" href=\"/help\">Help</a>\n",
        "      </nav>\n",
        "    </div>\n",
        "  </header>\n",
        "\n",
        "  <main class=\"px-3\">\n",
        "    <h1>International COVID Data Tracker and Travel Planner</h1>\n",
        "    <p class=\"lead\">Get the latest statistics about Coronavirus every 15 minutes. See the most recent stats by country, collected from several reliable sources.</p>\n",
        "\n",
        "    <p class=\"lead\">\n",
        "      <a href=\"#\" class=\"btn btn-lg btn-secondary fw-bold border-white bg-white\">Get Started</a>\n",
        "    </p>\n",
        "\n",
        "   <div class=\"input-group mb-3\">\n",
        "  <div class=\"input-group-prepend\">\n",
        "    <button class=\"btn btn-outline-secondary dropdown-toggle\" type=\"button\" data-toggle=\"dropdown\" aria-haspopup=\"true\" aria-expanded=\"false\">Dropdown</button>\n",
        "    <div class=\"dropdown-menu\">\n",
        "      <a class=\"dropdown-item\" href=\"#\">Action</a>\n",
        "      <a class=\"dropdown-item\" href=\"#\">Another action</a>\n",
        "      <a class=\"dropdown-item\" href=\"#\">Something else here</a>\n",
        "    </div>\n",
        "  </div>\n",
        "  <input type=\"text\" class=\"form-control\" aria-label=\"Text input with dropdown button\">\n",
        "</div>\n",
        "\n",
        "  </main>\n",
        "\n",
        "  <footer class=\"mt-auto text-white-50\">\n",
        "    <p>Cover template for <a href=\"https://getbootstrap.com/\" class=\"text-white\">Bootstrap</a>, by <a href=\"https://twitter.com/mdo\" class=\"text-white\">@mdo</a>.</p>\n",
        "  </footer>\n",
        "</div>\n",
        "\n",
        "\n",
        "    \n",
        "  </body>\n",
        "</html>"
      ],
      "execution_count": 4,
      "outputs": [
        {
          "output_type": "stream",
          "name": "stdout",
          "text": [
            "Writing templates/landing.html\n"
          ]
        }
      ]
    },
    {
      "cell_type": "code",
      "metadata": {
        "colab": {
          "base_uri": "https://localhost:8080/"
        },
        "id": "2rnaiQ3RzKR_",
        "outputId": "eabf440c-a52a-41c7-9132-af06993e6994"
      },
      "source": [
        "# create \"About Page\" template\n",
        "\n",
        "%%writefile templates/about.html\n",
        "<!DOCTYPE html>\n",
        "<html>\n",
        "<head>\n",
        "<title>About</title>\n",
        "</head>\n",
        "<body>\n",
        "\n",
        "<h1>International COVID Data Tracker / Travel Planner</h1><br>\n",
        "<p>This website was created by Team 6 from Professor Sosulski's Programming in Python and Software Development course.</p>\n",
        "<p>This website will help you plan your next vacation trip by returning the latest COVID case data in your desired locale. We hope you find it useful!</p>\n",
        "<br>\n",
        "\n",
        "<b>Team Members</b>\n",
        "<p>Srishti Chugh</p>\n",
        "<p>Annetta Li</p>\n",
        "<p>Ben Loya</p>\n",
        "<p>Victoria Scott</p>\n",
        "<br>\n",
        "<p>Go to the Landing Page: <a href=\"../\">Landing</a></p>\n",
        "<p>Go to the Help Page: <a href=\"/help\">Help</a></p>\n",
        "</body>\n",
        "</html>"
      ],
      "execution_count": 5,
      "outputs": [
        {
          "output_type": "stream",
          "name": "stdout",
          "text": [
            "Writing templates/about.html\n"
          ]
        }
      ]
    },
    {
      "cell_type": "code",
      "metadata": {
        "colab": {
          "base_uri": "https://localhost:8080/"
        },
        "id": "-kIrsoAh4YEe",
        "outputId": "3f403516-399b-46a7-f8c0-c7a3315b2ec5"
      },
      "source": [
        "#create the help page\n",
        "\n",
        "%%writefile templates/help.html\n",
        "<!DOCTYPE html>\n",
        "\n",
        "<html>\n",
        "  <head>\n",
        "  <title>Help Page</title>\n",
        "</head>\n",
        "<body>\n",
        "  <div id=\"page\">\n",
        "    <div id=\"header\">\n",
        "      <h1>International COVID Data Tracker / Travel Planner Guide</h1>\n",
        "      <p>This is the help page, where you can find information on how to use our website.</p>\n",
        "    </div>\n",
        "    <br>\n",
        "    <div class=\"contentTitle\">\n",
        "      <h2>About the Data</h2>\n",
        "    </div>\n",
        "    <div class=\"contentText\">\n",
        "      <p>We used data from the online published API, <a href=\"https://rapidapi.com/Gramzivi/api/covid-19-data/\"> COVID-19 Data</a>.</p>\n",
        "      <p>This API collects information from several reliable sources, including Johns Hopkins CSSE, CDC, WHO and a few others. All sources are verified, and confirmed by official authorities. Every country sends official reports differently. From once per day to every hour. That depends on the scale of the pandemic and the time zone.</p>\n",
        "    </div>\n",
        "\n",
        "    <div class=\"contentTitle\">\n",
        "      <h2>How to use the site</h2>\n",
        "    </div>\n",
        "    <div class=\"contentText\">\n",
        "      <p>This site aims to provide users the ability to assess the COVID count for the country they plan to travel to.</p>\n",
        "      <p>Please utilize the icon for countries to select the country of interest, and a daily count as well as an aggregated count will be displayed. The refresh of the backend data is determinted by the API.</p>\n",
        "    </div>\n",
        "\n",
        "    <div class=\"contentTitle\">\n",
        "      <h2>Other Questions</h2>\n",
        "    </div>\n",
        "    <div class=\"contentText\">\n",
        "      <p>Please reach out to our team members for any other questions you have on using this site. <a href=\"mailto: ayl318@stern.nyu.edu\"> Contact Us</a> </p>\n",
        "    </div>\n",
        "\n",
        "  </div>\n",
        "  <br>\n",
        "  <div id=\"footer\">   \n",
        "    <p>Go to the about page:<a href=\"/about\">About</a></p>\n",
        "    <p>Go back to the landing page:<a href=\"../\">Landing</a></p>\n",
        "  </div>\n",
        "</body>\n",
        "</html>"
      ],
      "execution_count": 6,
      "outputs": [
        {
          "output_type": "stream",
          "name": "stdout",
          "text": [
            "Writing templates/help.html\n"
          ]
        }
      ]
    },
    {
      "cell_type": "code",
      "metadata": {
        "colab": {
          "base_uri": "https://localhost:8080/"
        },
        "id": "MwR_cjaqw-D0",
        "outputId": "1622e7c5-50a9-425d-b5fc-c4a9dc8bb8d1"
      },
      "source": [
        "from flask import Flask, render_template\n",
        "\n",
        "app = Flask(__name__)\n",
        "@app.route(\"/\")\n",
        "def home():\n",
        "    return render_template(\"landing.html\", username=\"Team 6\")\n",
        "\n",
        "@app.route('/about')\n",
        "def about():\n",
        "    return render_template(\"about.html\")\n",
        "\n",
        "@app.route('/help')\n",
        "def help():\n",
        "    return render_template(\"help.html\")\n",
        "\n",
        "if __name__ == \"__main__\":\n",
        "    app.run()"
      ],
      "execution_count": null,
      "outputs": [
        {
          "output_type": "stream",
          "name": "stdout",
          "text": [
            " * Serving Flask app \"__main__\" (lazy loading)\n",
            " * Environment: production\n",
            "\u001b[31m   WARNING: This is a development server. Do not use it in a production deployment.\u001b[0m\n",
            "\u001b[2m   Use a production WSGI server instead.\u001b[0m\n",
            " * Debug mode: off\n"
          ]
        },
        {
          "output_type": "stream",
          "name": "stderr",
          "text": [
            " * Running on http://127.0.0.1:5000/ (Press CTRL+C to quit)\n",
            "127.0.0.1 - - [01/Dec/2021 04:23:01] \"\u001b[37mGET / HTTP/1.1\u001b[0m\" 200 -\n",
            "127.0.0.1 - - [01/Dec/2021 04:23:01] \"\u001b[33mGET /static/landingstyle.css HTTP/1.1\u001b[0m\" 404 -\n",
            "127.0.0.1 - - [01/Dec/2021 04:23:01] \"\u001b[33mGET /favicon.ico HTTP/1.1\u001b[0m\" 404 -\n"
          ]
        }
      ]
    },
    {
      "cell_type": "markdown",
      "metadata": {
        "id": "LgeDsXe2YLpw"
      },
      "source": [
        ""
      ]
    },
    {
      "cell_type": "markdown",
      "metadata": {
        "id": "hIEqK-ycPQpN"
      },
      "source": [
        "##CSS"
      ]
    },
    {
      "cell_type": "code",
      "metadata": {
        "id": "M-2Fe1emOdjH"
      },
      "source": [
        "%%writefile static/landingstyle.css\n",
        "\n",
        "/* Custom default button */\n",
        ".btn-secondary,\n",
        ".btn-secondary:hover,\n",
        ".btn-secondary:focus {\n",
        "  color: #333;\n",
        "  text-shadow: none; /* Prevent inheritance from `body` */\n",
        "}\n",
        "\n",
        ".bd-placeholder-img {\n",
        "        font-size: 1.125rem;\n",
        "        text-anchor: middle;\n",
        "        -webkit-user-select: none;\n",
        "        -moz-user-select: none;\n",
        "        user-select: none;\n",
        "      }\n",
        "\n",
        "      @media (min-width: 768px) {\n",
        "        .bd-placeholder-img-lg {\n",
        "          font-size: 3.5rem;\n",
        "        }\n",
        "      }\n",
        "\n",
        "\n",
        "/*\n",
        " * Base structure\n",
        " */\n",
        "\n",
        "body {\n",
        "  text-shadow: 0 .05rem .1rem rgba(0, 0, 0, .5);\n",
        "  box-shadow: inset 0 0 5rem rgba(0, 0, 0, .5);\n",
        "}\n",
        "\n",
        ".cover-container {\n",
        "  max-width: 42em;\n",
        "}\n",
        "\n",
        "\n",
        "/*\n",
        " * Header\n",
        " */\n",
        "\n",
        ".nav-masthead .nav-link {\n",
        "  padding: .25rem 0;\n",
        "  font-weight: 700;\n",
        "  color: rgba(255, 255, 255, .5);\n",
        "  background-color: transparent;\n",
        "  border-bottom: .25rem solid transparent;\n",
        "}\n",
        "\n",
        ".nav-masthead .nav-link:hover,\n",
        ".nav-masthead .nav-link:focus {\n",
        "  border-bottom-color: rgba(255, 255, 255, .25);\n",
        "}\n",
        "\n",
        ".nav-masthead .nav-link + .nav-link {\n",
        "  margin-left: 1rem;\n",
        "}\n",
        "\n",
        ".nav-masthead .active {\n",
        "  color: #fff;\n",
        "  border-bottom-color: #fff;\n",
        "}\n"
      ],
      "execution_count": null,
      "outputs": []
    }
  ]
}